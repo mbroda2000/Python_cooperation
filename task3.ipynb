{
  "nbformat": 4,
  "nbformat_minor": 0,
  "metadata": {
    "colab": {
      "provenance": [],
      "include_colab_link": true
    },
    "kernelspec": {
      "name": "python3",
      "display_name": "Python 3"
    },
    "language_info": {
      "name": "python"
    }
  },
  "cells": [
    {
      "cell_type": "markdown",
      "metadata": {
        "id": "view-in-github",
        "colab_type": "text"
      },
      "source": [

        "<a href=\"https://colab.research.google.com/github/mbroda2000/Python_cooperation/blob/lab2task3Szymon/task3.ipynb\" target=\"_parent\"><img src=\"https://colab.research.google.com/assets/colab-badge.svg\" alt=\"Open In Colab\"/></a>"

      ]
    },
    {
      "cell_type": "code",

      "execution_count": null,

      "metadata": {
        "id": "280h6I2JGnBP"
      },
      "outputs": [],
      "source": [
        "def name1():\n",

        "    return"
      ]
    },
    {
      "cell_type": "code",
      "source": [
        "def name2():\n",
        "    return 'Szymon'"
      ],
      "metadata": {
        "id": "UmzYacL8HJE4"
      },
      "execution_count": null,
      "outputs": []
    },
    {
      "cell_type": "code",
      "source": [
        "def name3():\n",
        "    return"
      ],
      "metadata": {
        "id": "Ji8l2XuUHM5M"
      },
      "execution_count": null,
      "outputs": []
    },
    {
      "cell_type": "code",
      "source": [
        "def name4():\n",
        "    return"
      ],
      "metadata": {
        "id": "AFMZRDHLHOht"
      },
      "execution_count": null,
      "outputs": []
    }
  ]
}